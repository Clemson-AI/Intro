{
  "nbformat": 4,
  "nbformat_minor": 0,
  "metadata": {
    "colab": {
      "name": "Intro-to-Deep-Learning-CAI.ipynb",
      "provenance": []
    },
    "kernelspec": {
      "name": "python3",
      "display_name": "Python 3"
    },
    "accelerator": "GPU"
  },
  "cells": [
    {
      "cell_type": "markdown",
      "metadata": {
        "id": "3WnbFJSFW0kW"
      },
      "source": [
        "# Intro to Deep Learning\r\n",
        "<table align=\"left\"><td>\r\n",
        "  <a target=\"_blank\"  href=\"https://github.com/Clemson-AI/Intro/blob/master/Intro_to_Deep_Learning_CAI.ipynb\">\r\n",
        "    <img src=\"https://www.tensorflow.org/images/GitHub-Mark-32px.png\" />View source on github\r\n",
        "  </a>\r\n",
        "</td><td>\r\n",
        "  <a target=\"_blank\"  href=\"https://colab.sandbox.google.com/github/Clemson-AI/Intro/blob/master/Intro_to_Deep_Learning_CAI.ipynb\">\r\n",
        "    <img width=32px src=\"https://www.tensorflow.org/images/colab_logo_32px.png\" />Run in Google Colab</a>\r\n",
        "</td></table>"
      ]
    },
    {
      "cell_type": "code",
      "metadata": {
        "id": "KbslkSc-J_Pq"
      },
      "source": [
        "import torch\r\n",
        "import torch.nn as nn\r\n",
        "import numpy as np\r\n",
        "import os, json, cv2, random\r\n",
        "from google.colab.patches import cv2_imshow"
      ],
      "execution_count": null,
      "outputs": []
    },
    {
      "cell_type": "markdown",
      "metadata": {
        "id": "A_0nOdrvQ8KO"
      },
      "source": [
        "# Tensors"
      ]
    },
    {
      "cell_type": "code",
      "metadata": {
        "id": "fMEdL5BcMCcu"
      },
      "source": [
        "data = torch.tensor(.6)"
      ],
      "execution_count": null,
      "outputs": []
    },
    {
      "cell_type": "markdown",
      "metadata": {
        "id": "eqG8ejNTNhhB"
      },
      "source": [
        "# Activation Function\r\n",
        "\r\n",
        "\\begin{equation}\r\n",
        "\r\n",
        "Sigmoid(x) = \\sigma(x) = \\dfrac{1}{1 + \\exp(-x)}\r\n",
        "\r\n",
        "\\end{equation}\r\n",
        "\r\n",
        "​\t\r\n",
        "![Sigmoid](https://pytorch.org/docs/stable/_images/Sigmoid.png)\r\n",
        "\\begin{equation}\r\n",
        "ReLU(x) = x^+ = max(0,x)\r\n",
        "\\end{equation}\r\n",
        "\r\n",
        "![ReLu](https://pytorch.org/docs/stable/_images/ReLU.png)\r\n"
      ]
    },
    {
      "cell_type": "code",
      "metadata": {
        "id": "9gbVZhbcKBi8"
      },
      "source": [
        "sig = nn.Sigmoid()"
      ],
      "execution_count": null,
      "outputs": []
    },
    {
      "cell_type": "code",
      "metadata": {
        "colab": {
          "base_uri": "https://localhost:8080/"
        },
        "id": "B4Kide_RLUsC",
        "outputId": "35558ad7-d1f0-41d4-fbec-d2619b9bee00"
      },
      "source": [
        "sig(data)"
      ],
      "execution_count": null,
      "outputs": [
        {
          "output_type": "execute_result",
          "data": {
            "text/plain": [
              "tensor(0.6457)"
            ]
          },
          "metadata": {
            "tags": []
          },
          "execution_count": 38
        }
      ]
    },
    {
      "cell_type": "code",
      "metadata": {
        "id": "3eF-I2HoTHG8"
      },
      "source": [
        "relu = nn.ReLU()"
      ],
      "execution_count": null,
      "outputs": []
    },
    {
      "cell_type": "code",
      "metadata": {
        "colab": {
          "base_uri": "https://localhost:8080/"
        },
        "id": "LnMTKm22TJ7t",
        "outputId": "ffa0c5b6-d42b-439a-871f-d0420125e3f7"
      },
      "source": [
        "relu(data)"
      ],
      "execution_count": null,
      "outputs": [
        {
          "output_type": "execute_result",
          "data": {
            "text/plain": [
              "tensor(0.6000)"
            ]
          },
          "metadata": {
            "tags": []
          },
          "execution_count": 37
        }
      ]
    },
    {
      "cell_type": "markdown",
      "metadata": {
        "id": "NsSJvhUQRg3e"
      },
      "source": [
        "# Loss\r\n",
        "\\begin{equation}\r\n",
        "loss_n=∣x_n−y_n∣\r\n",
        "\\end{equation}"
      ]
    },
    {
      "cell_type": "code",
      "metadata": {
        "id": "8hOF6tllVMxY"
      },
      "source": [
        "data = torch.tensor([5.0,5.0,5.0])\r\n",
        "truth = torch.tensor([7.0,8.0,9.0])"
      ],
      "execution_count": null,
      "outputs": []
    },
    {
      "cell_type": "code",
      "metadata": {
        "id": "SuXgKlEiMx2j"
      },
      "source": [
        "loss = nn.L1Loss(reduction='none')"
      ],
      "execution_count": null,
      "outputs": []
    },
    {
      "cell_type": "code",
      "metadata": {
        "colab": {
          "base_uri": "https://localhost:8080/"
        },
        "id": "da0bi3QNV39k",
        "outputId": "4fb06135-4f96-4d04-f9c6-6a080f9f68b7"
      },
      "source": [
        "loss(data, truth)"
      ],
      "execution_count": null,
      "outputs": [
        {
          "output_type": "execute_result",
          "data": {
            "text/plain": [
              "tensor([2., 3., 4.])"
            ]
          },
          "metadata": {
            "tags": []
          },
          "execution_count": 59
        }
      ]
    },
    {
      "cell_type": "markdown",
      "metadata": {
        "id": "5Rge_KOpWJDV"
      },
      "source": [
        ""
      ]
    },
    {
      "cell_type": "code",
      "metadata": {
        "id": "F0lzLs7MVxKJ"
      },
      "source": [
        "loss = nn.L1Loss(reduction='mean')"
      ],
      "execution_count": null,
      "outputs": []
    },
    {
      "cell_type": "code",
      "metadata": {
        "colab": {
          "base_uri": "https://localhost:8080/"
        },
        "id": "_iM8MonBR-TF",
        "outputId": "b84e2ad9-3193-4aa9-bd29-f0ed7d27b9b3"
      },
      "source": [
        "loss(data, truth)"
      ],
      "execution_count": null,
      "outputs": [
        {
          "output_type": "execute_result",
          "data": {
            "text/plain": [
              "tensor(3.)"
            ]
          },
          "metadata": {
            "tags": []
          },
          "execution_count": 61
        }
      ]
    },
    {
      "cell_type": "code",
      "metadata": {
        "id": "lwk6kiqhSHpZ"
      },
      "source": [
        ""
      ],
      "execution_count": null,
      "outputs": []
    }
  ]
}