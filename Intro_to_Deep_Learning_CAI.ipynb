{
  "nbformat": 4,
  "nbformat_minor": 0,
  "metadata": {
    "colab": {
      "name": "Intro_to_Deep_Learning_CAI.ipynb",
      "provenance": [],
      "collapsed_sections": []
    },
    "kernelspec": {
      "name": "python3",
      "display_name": "Python 3"
    },
    "accelerator": "GPU",
    "widgets": {
      "application/vnd.jupyter.widget-state+json": {
        "abc493cacf4d48dfacf6c3d70d2d6a53": {
          "model_module": "@jupyter-widgets/controls",
          "model_name": "HBoxModel",
          "state": {
            "_view_name": "HBoxView",
            "_dom_classes": [],
            "_model_name": "HBoxModel",
            "_view_module": "@jupyter-widgets/controls",
            "_model_module_version": "1.5.0",
            "_view_count": null,
            "_view_module_version": "1.5.0",
            "box_style": "",
            "layout": "IPY_MODEL_1fcb02bb2cf64fd9af0f01f5e2897960",
            "_model_module": "@jupyter-widgets/controls",
            "children": [
              "IPY_MODEL_670b275d4d56465bbca9986404b0c193",
              "IPY_MODEL_b9767b95c9cb47d2a3412068f052c803"
            ]
          }
        },
        "1fcb02bb2cf64fd9af0f01f5e2897960": {
          "model_module": "@jupyter-widgets/base",
          "model_name": "LayoutModel",
          "state": {
            "_view_name": "LayoutView",
            "grid_template_rows": null,
            "right": null,
            "justify_content": null,
            "_view_module": "@jupyter-widgets/base",
            "overflow": null,
            "_model_module_version": "1.2.0",
            "_view_count": null,
            "flex_flow": null,
            "width": null,
            "min_width": null,
            "border": null,
            "align_items": null,
            "bottom": null,
            "_model_module": "@jupyter-widgets/base",
            "top": null,
            "grid_column": null,
            "overflow_y": null,
            "overflow_x": null,
            "grid_auto_flow": null,
            "grid_area": null,
            "grid_template_columns": null,
            "flex": null,
            "_model_name": "LayoutModel",
            "justify_items": null,
            "grid_row": null,
            "max_height": null,
            "align_content": null,
            "visibility": null,
            "align_self": null,
            "height": null,
            "min_height": null,
            "padding": null,
            "grid_auto_rows": null,
            "grid_gap": null,
            "max_width": null,
            "order": null,
            "_view_module_version": "1.2.0",
            "grid_template_areas": null,
            "object_position": null,
            "object_fit": null,
            "grid_auto_columns": null,
            "margin": null,
            "display": null,
            "left": null
          }
        },
        "670b275d4d56465bbca9986404b0c193": {
          "model_module": "@jupyter-widgets/controls",
          "model_name": "FloatProgressModel",
          "state": {
            "_view_name": "ProgressView",
            "style": "IPY_MODEL_0c1d432c34d94134b93426b0e9f26215",
            "_dom_classes": [],
            "description": "100%",
            "_model_name": "FloatProgressModel",
            "bar_style": "success",
            "max": 553433881,
            "_view_module": "@jupyter-widgets/controls",
            "_model_module_version": "1.5.0",
            "value": 553433881,
            "_view_count": null,
            "_view_module_version": "1.5.0",
            "orientation": "horizontal",
            "min": 0,
            "description_tooltip": null,
            "_model_module": "@jupyter-widgets/controls",
            "layout": "IPY_MODEL_43c665c5abbc4c29b2c0a7ef79ab792d"
          }
        },
        "b9767b95c9cb47d2a3412068f052c803": {
          "model_module": "@jupyter-widgets/controls",
          "model_name": "HTMLModel",
          "state": {
            "_view_name": "HTMLView",
            "style": "IPY_MODEL_3d1f6c6ccc6a408a8a63da3fc98a047d",
            "_dom_classes": [],
            "description": "",
            "_model_name": "HTMLModel",
            "placeholder": "​",
            "_view_module": "@jupyter-widgets/controls",
            "_model_module_version": "1.5.0",
            "value": " 528M/528M [00:24&lt;00:00, 22.2MB/s]",
            "_view_count": null,
            "_view_module_version": "1.5.0",
            "description_tooltip": null,
            "_model_module": "@jupyter-widgets/controls",
            "layout": "IPY_MODEL_f3467072ff7542f1a688e293f3b29546"
          }
        },
        "0c1d432c34d94134b93426b0e9f26215": {
          "model_module": "@jupyter-widgets/controls",
          "model_name": "ProgressStyleModel",
          "state": {
            "_view_name": "StyleView",
            "_model_name": "ProgressStyleModel",
            "description_width": "initial",
            "_view_module": "@jupyter-widgets/base",
            "_model_module_version": "1.5.0",
            "_view_count": null,
            "_view_module_version": "1.2.0",
            "bar_color": null,
            "_model_module": "@jupyter-widgets/controls"
          }
        },
        "43c665c5abbc4c29b2c0a7ef79ab792d": {
          "model_module": "@jupyter-widgets/base",
          "model_name": "LayoutModel",
          "state": {
            "_view_name": "LayoutView",
            "grid_template_rows": null,
            "right": null,
            "justify_content": null,
            "_view_module": "@jupyter-widgets/base",
            "overflow": null,
            "_model_module_version": "1.2.0",
            "_view_count": null,
            "flex_flow": null,
            "width": null,
            "min_width": null,
            "border": null,
            "align_items": null,
            "bottom": null,
            "_model_module": "@jupyter-widgets/base",
            "top": null,
            "grid_column": null,
            "overflow_y": null,
            "overflow_x": null,
            "grid_auto_flow": null,
            "grid_area": null,
            "grid_template_columns": null,
            "flex": null,
            "_model_name": "LayoutModel",
            "justify_items": null,
            "grid_row": null,
            "max_height": null,
            "align_content": null,
            "visibility": null,
            "align_self": null,
            "height": null,
            "min_height": null,
            "padding": null,
            "grid_auto_rows": null,
            "grid_gap": null,
            "max_width": null,
            "order": null,
            "_view_module_version": "1.2.0",
            "grid_template_areas": null,
            "object_position": null,
            "object_fit": null,
            "grid_auto_columns": null,
            "margin": null,
            "display": null,
            "left": null
          }
        },
        "3d1f6c6ccc6a408a8a63da3fc98a047d": {
          "model_module": "@jupyter-widgets/controls",
          "model_name": "DescriptionStyleModel",
          "state": {
            "_view_name": "StyleView",
            "_model_name": "DescriptionStyleModel",
            "description_width": "",
            "_view_module": "@jupyter-widgets/base",
            "_model_module_version": "1.5.0",
            "_view_count": null,
            "_view_module_version": "1.2.0",
            "_model_module": "@jupyter-widgets/controls"
          }
        },
        "f3467072ff7542f1a688e293f3b29546": {
          "model_module": "@jupyter-widgets/base",
          "model_name": "LayoutModel",
          "state": {
            "_view_name": "LayoutView",
            "grid_template_rows": null,
            "right": null,
            "justify_content": null,
            "_view_module": "@jupyter-widgets/base",
            "overflow": null,
            "_model_module_version": "1.2.0",
            "_view_count": null,
            "flex_flow": null,
            "width": null,
            "min_width": null,
            "border": null,
            "align_items": null,
            "bottom": null,
            "_model_module": "@jupyter-widgets/base",
            "top": null,
            "grid_column": null,
            "overflow_y": null,
            "overflow_x": null,
            "grid_auto_flow": null,
            "grid_area": null,
            "grid_template_columns": null,
            "flex": null,
            "_model_name": "LayoutModel",
            "justify_items": null,
            "grid_row": null,
            "max_height": null,
            "align_content": null,
            "visibility": null,
            "align_self": null,
            "height": null,
            "min_height": null,
            "padding": null,
            "grid_auto_rows": null,
            "grid_gap": null,
            "max_width": null,
            "order": null,
            "_view_module_version": "1.2.0",
            "grid_template_areas": null,
            "object_position": null,
            "object_fit": null,
            "grid_auto_columns": null,
            "margin": null,
            "display": null,
            "left": null
          }
        }
      }
    }
  },
  "cells": [
    {
      "cell_type": "markdown",
      "metadata": {
        "id": "3WnbFJSFW0kW"
      },
      "source": [
        "# Intro to Deep Learning\r\n",
        "<table align=\"left\"><td>\r\n",
        "  <a target=\"_blank\"  href=\"https://github.com/Clemson-AI/Intro/blob/master/Intro_to_Deep_Learning_CAI.ipynb\">\r\n",
        "    <img src=\"https://www.tensorflow.org/images/GitHub-Mark-32px.png\" />View source on github\r\n",
        "  </a>\r\n",
        "</td><td>\r\n",
        "  <a target=\"_blank\"  href=\"https://colab.sandbox.google.com/github/Clemson-AI/Intro/blob/master/Intro_to_Deep_Learning_CAI.ipynb\">\r\n",
        "    <img width=32px src=\"https://www.tensorflow.org/images/colab_logo_32px.png\" />Run in Google Colab</a>\r\n",
        "</td></table>"
      ]
    },
    {
      "cell_type": "code",
      "metadata": {
        "id": "KbslkSc-J_Pq"
      },
      "source": [
        "import torch\r\n",
        "import torch.nn as nn\r\n",
        "import numpy as np\r\n",
        "import os, json, cv2, random\r\n",
        "from google.colab.patches import cv2_imshow\r\n",
        "from google.colab import files"
      ],
      "execution_count": 7,
      "outputs": []
    },
    {
      "cell_type": "markdown",
      "metadata": {
        "id": "A_0nOdrvQ8KO"
      },
      "source": [
        "# Pytorch Tensors\r\n",
        "<img src=\"https://miro.medium.com/max/1050/0*jGB1CGQ9HdeUwlgB\" width=70% height=70% alt=\"Tensor\">"
      ]
    },
    {
      "cell_type": "code",
      "metadata": {
        "id": "DjaxmMrZg7GH",
        "colab": {
          "base_uri": "https://localhost:8080/"
        },
        "outputId": "b2dd63d7-f394-41a1-eba1-ac4413c90123"
      },
      "source": [
        "# Rank 1 \r\n",
        "torch.tensor([.7, 1.4, 2.1])"
      ],
      "execution_count": 13,
      "outputs": [
        {
          "output_type": "execute_result",
          "data": {
            "text/plain": [
              "tensor([0.7000, 1.4000, 2.1000])"
            ]
          },
          "metadata": {
            "tags": []
          },
          "execution_count": 13
        }
      ]
    },
    {
      "cell_type": "code",
      "metadata": {
        "id": "ywMGcKEck1ZU",
        "colab": {
          "base_uri": "https://localhost:8080/"
        },
        "outputId": "036f1285-aa5a-4fdc-baf0-8a584a62f36d"
      },
      "source": [
        "# Rank 2\r\n",
        "torch.randn(2,2)"
      ],
      "execution_count": 14,
      "outputs": [
        {
          "output_type": "execute_result",
          "data": {
            "text/plain": [
              "tensor([[ 2.4337,  2.3011],\n",
              "        [-0.9736,  1.5680]])"
            ]
          },
          "metadata": {
            "tags": []
          },
          "execution_count": 14
        }
      ]
    },
    {
      "cell_type": "code",
      "metadata": {
        "id": "_VUXHhi7gr7W",
        "colab": {
          "base_uri": "https://localhost:8080/"
        },
        "outputId": "fb660e72-4e5b-48ce-cdc5-1405cd55c161"
      },
      "source": [
        "# Rank 4\r\n",
        "torch.randn(2,2,2,2)"
      ],
      "execution_count": 15,
      "outputs": [
        {
          "output_type": "execute_result",
          "data": {
            "text/plain": [
              "tensor([[[[-0.2927,  0.5349],\n",
              "          [-1.6995,  0.3683]],\n",
              "\n",
              "         [[ 0.5822,  0.1449],\n",
              "          [ 0.6328,  0.9917]]],\n",
              "\n",
              "\n",
              "        [[[-1.0349,  0.6003],\n",
              "          [-0.0706, -0.9642]],\n",
              "\n",
              "         [[-1.5919, -0.5565],\n",
              "          [-0.4671, -0.0823]]]])"
            ]
          },
          "metadata": {
            "tags": []
          },
          "execution_count": 15
        }
      ]
    },
    {
      "cell_type": "markdown",
      "metadata": {
        "id": "BspdStnjsFE-"
      },
      "source": [
        "# Matrix Multiplication"
      ]
    },
    {
      "cell_type": "code",
      "metadata": {
        "id": "7uR3r-VMsImA"
      },
      "source": [
        "t1 = torch.tensor([1.0, 2.0, 3.0])\r\n",
        "t2 = torch.tensor([[.3, .5, .2], [.2, .5, .2]])\r\n",
        "t3 = torch.tensor([])"
      ],
      "execution_count": 16,
      "outputs": []
    },
    {
      "cell_type": "code",
      "metadata": {
        "id": "E8ACzi0RsaJ2"
      },
      "source": [
        "result = t1 * t2"
      ],
      "execution_count": 17,
      "outputs": []
    },
    {
      "cell_type": "code",
      "metadata": {
        "colab": {
          "base_uri": "https://localhost:8080/"
        },
        "id": "9iv88Xl3kWHk",
        "outputId": "803da7d5-918d-401c-cbdf-d9711829a88a"
      },
      "source": [
        "result"
      ],
      "execution_count": 18,
      "outputs": [
        {
          "output_type": "execute_result",
          "data": {
            "text/plain": [
              "tensor([[0.3000, 1.0000, 0.6000],\n",
              "        [0.2000, 1.0000, 0.6000]])"
            ]
          },
          "metadata": {
            "tags": []
          },
          "execution_count": 18
        }
      ]
    },
    {
      "cell_type": "code",
      "metadata": {
        "id": "aKEdBybTjxU_"
      },
      "source": [
        "# this applies summation across rows(dim=1) dim=0 is columnss\r\n",
        "result = torch.sum(result, dim=1)"
      ],
      "execution_count": 37,
      "outputs": []
    },
    {
      "cell_type": "code",
      "metadata": {
        "colab": {
          "base_uri": "https://localhost:8080/"
        },
        "id": "72VQk4Ofk1jp",
        "outputId": "ea37ed34-696d-4c6a-f260-0706235105fc"
      },
      "source": [
        "result"
      ],
      "execution_count": 42,
      "outputs": [
        {
          "output_type": "execute_result",
          "data": {
            "text/plain": [
              "tensor([1.9000, 1.8000])"
            ]
          },
          "metadata": {
            "tags": []
          },
          "execution_count": 42
        }
      ]
    },
    {
      "cell_type": "markdown",
      "metadata": {
        "id": "eqG8ejNTNhhB"
      },
      "source": [
        "# Defining Activation Functions\r\n",
        "\r\n",
        "\\begin{equation}\r\n",
        "\r\n",
        "Sigmoid(x) = \\sigma(x) = \\dfrac{1}{1 + \\exp(-x)}\r\n",
        "\r\n",
        "\\end{equation}\r\n",
        "\r\n",
        "![Sigmoid](https://pytorch.org/docs/stable/_images/Sigmoid.png)\r\n",
        "\\begin{equation}\r\n",
        "\r\n",
        "ReLU(x) = x^+ = max(0,x)\r\n",
        "\\end{equation}\r\n",
        "\r\n",
        "![ReLu](https://pytorch.org/docs/stable/_images/ReLU.png)\r\n",
        "\r\n"
      ]
    },
    {
      "cell_type": "markdown",
      "metadata": {
        "id": "CRQ-qZ8Xh7RD"
      },
      "source": [
        "Sigmoid"
      ]
    },
    {
      "cell_type": "code",
      "metadata": {
        "id": "C4d3AGnAmggR"
      },
      "source": [
        "# Define non linearity\r\n",
        "sigmoid = nn.Sigmoid()\r\n",
        "relu = nn.ReLU()"
      ],
      "execution_count": null,
      "outputs": []
    },
    {
      "cell_type": "code",
      "metadata": {
        "colab": {
          "base_uri": "https://localhost:8080/"
        },
        "id": "B4Kide_RLUsC",
        "outputId": "6313c21d-1829-4f19-e42c-0d0258193c87"
      },
      "source": [
        "# Take the sigmoid of our example\r\n",
        "sigmoid(result)"
      ],
      "execution_count": 44,
      "outputs": [
        {
          "output_type": "execute_result",
          "data": {
            "text/plain": [
              "tensor([0.8699, 0.8581])"
            ]
          },
          "metadata": {
            "tags": []
          },
          "execution_count": 44
        }
      ]
    },
    {
      "cell_type": "markdown",
      "metadata": {
        "id": "2OhYV5a8hadj"
      },
      "source": [
        "ReLU"
      ]
    },
    {
      "cell_type": "code",
      "metadata": {
        "id": "DDMRDe_uc823",
        "colab": {
          "base_uri": "https://localhost:8080/"
        },
        "outputId": "f3db6e67-5a2b-4e0a-b38b-a2cc1db2e8bd"
      },
      "source": [
        "# Rectified Linear Unit (ReLU)\r\n",
        "relu(result)"
      ],
      "execution_count": 45,
      "outputs": [
        {
          "output_type": "execute_result",
          "data": {
            "text/plain": [
              "tensor([1.9000, 1.8000])"
            ]
          },
          "metadata": {
            "tags": []
          },
          "execution_count": 45
        }
      ]
    },
    {
      "cell_type": "markdown",
      "metadata": {
        "id": "NsSJvhUQRg3e"
      },
      "source": [
        "# Loss"
      ]
    },
    {
      "cell_type": "markdown",
      "metadata": {
        "id": "jB2Gjifz8CPa"
      },
      "source": [
        "### <center>L1Loss</center>\r\n",
        "\\begin{equation}\r\n",
        "loss = \\dfrac{\\sum_{i=1}^{n}∣y_i−\\hat{y}_i∣}{n}\r\n",
        "\\end{equation}"
      ]
    },
    {
      "cell_type": "markdown",
      "metadata": {
        "id": "SPWGYtscvnLZ"
      },
      "source": [
        "### <center>Binary Cross Entropy Loss</center>\r\n",
        "<p align=\"center\">\r\n",
        "  <img src=\"https://miro.medium.com/max/1096/1*rdBw0E-My8Gu3f_BOB6GMA.png\" />\r\n",
        "</p>"
      ]
    },
    {
      "cell_type": "markdown",
      "metadata": {
        "id": "zPBWcttnnMGx"
      },
      "source": [
        "### Regression"
      ]
    },
    {
      "cell_type": "code",
      "metadata": {
        "id": "8hOF6tllVMxY"
      },
      "source": [
        "data = torch.tensor([5.0,5.0,5.0])\r\n",
        "truth = torch.tensor([7.0,8.0,9.0])"
      ],
      "execution_count": null,
      "outputs": []
    },
    {
      "cell_type": "code",
      "metadata": {
        "id": "F0lzLs7MVxKJ"
      },
      "source": [
        "# L1 Loss, mean absolute error (MAE) useful for Regression tasks\r\n",
        "criterion = nn.L1Loss(reduction='mean')"
      ],
      "execution_count": 28,
      "outputs": []
    },
    {
      "cell_type": "code",
      "metadata": {
        "colab": {
          "base_uri": "https://localhost:8080/"
        },
        "id": "_iM8MonBR-TF",
        "outputId": "6b441e7a-e8cd-444a-ec6d-9e2b62801527"
      },
      "source": [
        "criterion(data, truth)"
      ],
      "execution_count": null,
      "outputs": [
        {
          "output_type": "execute_result",
          "data": {
            "text/plain": [
              "tensor(3.)"
            ]
          },
          "metadata": {
            "tags": []
          },
          "execution_count": 55
        }
      ]
    },
    {
      "cell_type": "markdown",
      "metadata": {
        "id": "bEQEylH2nOd1"
      },
      "source": [
        "### Classification"
      ]
    },
    {
      "cell_type": "code",
      "metadata": {
        "id": "ahFLs0CmnQ2d"
      },
      "source": [
        "data = torch.tensor([.34, .25, 1.0])\r\n",
        "truth = torch.tensor([1.0, 0.0, 1.0])"
      ],
      "execution_count": 46,
      "outputs": []
    },
    {
      "cell_type": "code",
      "metadata": {
        "id": "IzsWRU-7xjr1"
      },
      "source": [
        "# BCELoss is useful for Classification tasks\r\n",
        "criterion = nn.BCELoss()"
      ],
      "execution_count": 47,
      "outputs": []
    },
    {
      "cell_type": "code",
      "metadata": {
        "colab": {
          "base_uri": "https://localhost:8080/"
        },
        "id": "rEn5_OBsm_B-",
        "outputId": "e9c4d1a9-f982-4eb3-a8df-48a07f67f1bf"
      },
      "source": [
        "criterion(data, truth)"
      ],
      "execution_count": 48,
      "outputs": [
        {
          "output_type": "execute_result",
          "data": {
            "text/plain": [
              "tensor(0.4555)"
            ]
          },
          "metadata": {
            "tags": []
          },
          "execution_count": 48
        }
      ]
    },
    {
      "cell_type": "markdown",
      "metadata": {
        "id": "jqypwK-AhxCl"
      },
      "source": [
        "# Optimizer\r\n",
        "To define an optimizer we have to import torch.optim:\r\n",
        "https://pytorch.org/docs/stable/optim.html  \r\n",
        "* [Adam: A Method for Stochastic Optimization](https://arxiv.org/abs/1412.6980)\r\n",
        "* [An overview of gradient descent optimization algorithms∗](https://arxiv.org/pdf/1609.04747.pdf)"
      ]
    },
    {
      "cell_type": "code",
      "metadata": {
        "id": "XGx5QeZRhz42"
      },
      "source": [
        "import torch.optim as optim\r\n",
        "# Define your Optimizer\r\n",
        "#optimizer = optim.SGD(Model.parameters(), lr=0.01) \r\n",
        "#optimizer = optim.Adam(Model.parameters(), lr=0.01)\r\n",
        "\r\n",
        "# Define your Loss Criterion\r\n",
        "criterion = nn.BCELoss()\r\n",
        "\r\n",
        "# in your training loop:\r\n",
        "optimizer.zero_grad()   # zero the gradient buffers\r\n",
        "output = net(input)\r\n",
        "loss = criterion(output, target)\r\n",
        "loss.backward()\r\n",
        "optimizer.step()    # Does the update"
      ],
      "execution_count": null,
      "outputs": []
    },
    {
      "cell_type": "markdown",
      "metadata": {
        "id": "0a85ZSfIBExU"
      },
      "source": [
        "# Linear Layers"
      ]
    },
    {
      "cell_type": "code",
      "metadata": {
        "colab": {
          "base_uri": "https://localhost:8080/"
        },
        "id": "r3c5UUKeezXO",
        "outputId": "ce4153ed-4dd4-4b04-f9ac-3b840672bb82"
      },
      "source": [
        "# Remember our inputs and weight\r\n",
        "print(\"input: {}\\nweight: {}\".format(t1, t2))"
      ],
      "execution_count": 53,
      "outputs": [
        {
          "output_type": "stream",
          "text": [
            "input: tensor([1., 2., 3.])\n",
            "weight: tensor([[0.3000, 0.5000, 0.2000],\n",
            "        [0.2000, 0.5000, 0.2000]])\n"
          ],
          "name": "stdout"
        }
      ]
    },
    {
      "cell_type": "code",
      "metadata": {
        "id": "A3eVhd7Rbv1K"
      },
      "source": [
        "# Perceptrons are called Linear Layers in Pytorch. \r\n",
        "# For example, this will take 3 inputs and output 2\r\n",
        "example = nn.Linear(3, 2, bias=False)\r\n",
        "\r\n",
        "# Setting weights as in presentation\r\n",
        "example.weight = nn.Parameter(t2, requires_grad=False)"
      ],
      "execution_count": 54,
      "outputs": []
    },
    {
      "cell_type": "code",
      "metadata": {
        "colab": {
          "base_uri": "https://localhost:8080/"
        },
        "id": "uI_K2PXLdbRw",
        "outputId": "91a8269c-f82f-4b5d-89b8-748ce83100da"
      },
      "source": [
        "example.weight"
      ],
      "execution_count": 55,
      "outputs": [
        {
          "output_type": "execute_result",
          "data": {
            "text/plain": [
              "Parameter containing:\n",
              "tensor([[0.3000, 0.5000, 0.2000],\n",
              "        [0.2000, 0.5000, 0.2000]])"
            ]
          },
          "metadata": {
            "tags": []
          },
          "execution_count": 55
        }
      ]
    },
    {
      "cell_type": "code",
      "metadata": {
        "colab": {
          "base_uri": "https://localhost:8080/"
        },
        "id": "3NvsXECGcNh9",
        "outputId": "6a84f89e-18fe-4fd5-c2f6-bb09668bdabb"
      },
      "source": [
        "# Forward Pass\r\n",
        "example(t1)"
      ],
      "execution_count": 56,
      "outputs": [
        {
          "output_type": "execute_result",
          "data": {
            "text/plain": [
              "tensor([1.9000, 1.8000])"
            ]
          },
          "metadata": {
            "tags": []
          },
          "execution_count": 56
        }
      ]
    },
    {
      "cell_type": "markdown",
      "metadata": {
        "id": "7KTPb5uTfnXg"
      },
      "source": [
        "# Define A Neural Network\r\n",
        "To define a network in Pytorch, we can extend nn.Module. To use functions without defining them, we can use nn.functional"
      ]
    },
    {
      "cell_type": "code",
      "metadata": {
        "id": "nfhE1WQrBImJ"
      },
      "source": [
        "import torch.nn.functional as F\r\n",
        "IMG_SIZE = 150528\r\n",
        "class Model(nn.Module):\r\n",
        "    def __init__(self):\r\n",
        "        super(Model, self).__init__()\r\n",
        "        # Define your layers here\r\n",
        "        self.fc1 = nn.Linear(in_features=IMG_SIZE, out_features=4096, bias=True)\r\n",
        "        self.fc2 = nn.Linear(4096, 4096) # bias defaults to True if you do not set it\r\n",
        "        self.fc3 = nn.Linear(4096, 1024)\r\n",
        "        self.fc4 = nn.Linear(1024, 1)\r\n",
        "        #define more here\r\n",
        "\r\n",
        "        #define dropout\r\n",
        "        self.dropout = nn.Dropout(p=.5)\r\n",
        "\r\n",
        "    def forward(self, x):\r\n",
        "        x = self.fc1(x) # Pass through first layer\r\n",
        "        x = F.relu(x) # Apply non-linearity\r\n",
        "        x = self.dropout(x)\r\n",
        "        x = F.relu(self.fc2(x)) # you can also combine them like this\r\n",
        "        x = self.dropout(x)\r\n",
        "        x = F.relu(self.fc3(x))\r\n",
        "        x = self.dropout(x)\r\n",
        "        x = self.fc4(x)\r\n",
        "\r\n",
        "        return torch.sigmoid(x) # Use sigmoid on final output, we want our results 0-1 (cat to dog)"
      ],
      "execution_count": 177,
      "outputs": []
    },
    {
      "cell_type": "code",
      "metadata": {
        "id": "l_Oztm40lHzk"
      },
      "source": [
        "# Create an instance of your defined model\r\n",
        "my_model = Model()"
      ],
      "execution_count": 178,
      "outputs": []
    },
    {
      "cell_type": "markdown",
      "metadata": {
        "id": "mJDo9V5NCOOZ"
      },
      "source": [
        "# Dataset\r\n",
        "Data processing is important, but we'll implement this part for you."
      ]
    },
    {
      "cell_type": "code",
      "metadata": {
        "colab": {
          "base_uri": "https://localhost:8080/"
        },
        "id": "b9aiSaDxCQQx",
        "outputId": "f0965305-492d-4407-8c1c-b2e244e2a059"
      },
      "source": [
        "!curl -O https://download.microsoft.com/download/3/E/1/3E1C3F21-ECDB-4869-8368-6DEBA77B919F/kagglecatsanddogs_3367a.zip"
      ],
      "execution_count": 102,
      "outputs": [
        {
          "output_type": "stream",
          "text": [
            "  % Total    % Received % Xferd  Average Speed   Time    Time     Time  Current\n",
            "                                 Dload  Upload   Total   Spent    Left  Speed\n",
            "100  786M  100  786M    0     0   118M      0  0:00:06  0:00:06 --:--:--  130M\n"
          ],
          "name": "stdout"
        }
      ]
    },
    {
      "cell_type": "code",
      "metadata": {
        "id": "Wd51Vy_vC8U6"
      },
      "source": [
        "!unzip -q kagglecatsanddogs_3367a.zip"
      ],
      "execution_count": 103,
      "outputs": []
    },
    {
      "cell_type": "code",
      "metadata": {
        "colab": {
          "base_uri": "https://localhost:8080/"
        },
        "id": "0KR4urasERqe",
        "outputId": "9eccf65a-d0f7-41c3-bde3-2a9d1cf0a355"
      },
      "source": [
        "!ls"
      ],
      "execution_count": 110,
      "outputs": [
        {
          "output_type": "stream",
          "text": [
            " kagglecatsanddogs_3367a.zip   PetImages        sample_data\n",
            "'MSR-LA - 3467.docx'\t      'readme[1].txt'\n"
          ],
          "name": "stdout"
        }
      ]
    },
    {
      "cell_type": "code",
      "metadata": {
        "id": "V1TkeXjHmkrO"
      },
      "source": [
        "from torchvision import datasets\r\n",
        "import torchvision.transforms as T\r\n",
        "from torch.utils.data import DataLoader\r\n",
        "from torch.utils.data import random_split\r\n",
        "\r\n",
        "### TODO: Write data loaders for training, validation, and test sets\r\n",
        "## Specify appropriate transforms, and batch_sizes\r\n",
        "\r\n",
        "batch_size = 24\r\n",
        "\r\n",
        "transform = T.Compose([T.RandomHorizontalFlip(),\r\n",
        "                       T.Resize((224,224)),\r\n",
        "                       T.ToTensor(),\r\n",
        "                       T.Normalize((0.5, 0.5, 0.5), (0.5, 0.5, 0.5))\r\n",
        "                       ])\r\n",
        "\r\n",
        "\r\n",
        "data = datasets.ImageFolder(\"PetImages\", transform=transform)\r\n",
        "\r\n",
        "train_data, test_data = random_split(data, [20000, 5000])\r\n",
        "train_loader = DataLoader(train_data, batch_size=batch_size, shuffle=True)\r\n",
        "test_loader = DataLoader(test_data, batch_size=batch_size, shuffle=True)\r\n"
      ],
      "execution_count": 151,
      "outputs": []
    },
    {
      "cell_type": "code",
      "metadata": {
        "colab": {
          "base_uri": "https://localhost:8080/"
        },
        "id": "BXFLtAH7oNGm",
        "outputId": "249948f6-b03a-41b6-82e9-b107bcf23bcb"
      },
      "source": [
        "len(train_data.indices)"
      ],
      "execution_count": 152,
      "outputs": [
        {
          "output_type": "execute_result",
          "data": {
            "text/plain": [
              "20000"
            ]
          },
          "metadata": {
            "tags": []
          },
          "execution_count": 152
        }
      ]
    },
    {
      "cell_type": "code",
      "metadata": {
        "colab": {
          "resources": {
            "http://localhost:8080/nbextensions/google.colab/files.js": {
              "data": "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",
              "ok": true,
              "headers": [
                [
                  "content-type",
                  "application/javascript"
                ]
              ],
              "status": 200,
              "status_text": ""
            }
          },
          "base_uri": "https://localhost:8080/",
          "height": 56
        },
        "id": "faLQkvSTrgHJ",
        "outputId": "4e293efe-3d3d-4b92-a60d-bb62dc3fb097"
      },
      "source": [
        "from google.colab import files\r\n",
        "files.upload()"
      ],
      "execution_count": 153,
      "outputs": [
        {
          "output_type": "display_data",
          "data": {
            "text/html": [
              "\n",
              "     <input type=\"file\" id=\"files-2e29ccff-5077-43d4-b1fc-312bc675483e\" name=\"files[]\" multiple disabled\n",
              "        style=\"border:none\" />\n",
              "     <output id=\"result-2e29ccff-5077-43d4-b1fc-312bc675483e\">\n",
              "      Upload widget is only available when the cell has been executed in the\n",
              "      current browser session. Please rerun this cell to enable.\n",
              "      </output>\n",
              "      <script src=\"/nbextensions/google.colab/files.js\"></script> "
            ],
            "text/plain": [
              "<IPython.core.display.HTML object>"
            ]
          },
          "metadata": {
            "tags": []
          }
        },
        {
          "output_type": "execute_result",
          "data": {
            "text/plain": [
              "{}"
            ]
          },
          "metadata": {
            "tags": []
          },
          "execution_count": 153
        }
      ]
    },
    {
      "cell_type": "code",
      "metadata": {
        "colab": {
          "base_uri": "https://localhost:8080/"
        },
        "id": "ryESWdEeap6e",
        "outputId": "4cece7a1-0cf7-4970-e9c0-bfe904eabd24"
      },
      "source": [
        "# Define a function that formats training images\r\n",
        "from PIL import Image \r\n",
        "  \r\n",
        "# open method used to open different extension image file \r\n",
        "im = Image.open(\"jeff.jpg\")"
      ],
      "execution_count": 160,
      "outputs": [
        {
          "output_type": "execute_result",
          "data": {
            "text/plain": [
              "tensor([ 0.3882,  0.3412,  0.4039,  ...,  0.0196, -0.2471, -0.4510])"
            ]
          },
          "metadata": {
            "tags": []
          },
          "execution_count": 160
        }
      ]
    },
    {
      "cell_type": "markdown",
      "metadata": {
        "id": "gHVnLogi9wYV"
      },
      "source": [
        "# Train"
      ]
    },
    {
      "cell_type": "code",
      "metadata": {
        "id": "b6MhO3li9xdy"
      },
      "source": [
        ""
      ],
      "execution_count": null,
      "outputs": []
    },
    {
      "cell_type": "markdown",
      "metadata": {
        "id": "Q1DPWK6r937S"
      },
      "source": [
        "# Saving and Loading"
      ]
    },
    {
      "cell_type": "markdown",
      "metadata": {
        "id": "Ort_UN7uduFC"
      },
      "source": [
        "# Transfer Learning with VGG Backbone\r\n",
        "For a more powerful model, we can use a CNN backbone. VGG-16 is a CNN. CNNs are commonly used to extract features from images. Pytorch lets us import some pretrained models from torchvision.models.  \r\n",
        "\r\n",
        "* [Very Deep Convolutional Networks for Large-Scale Image Recognition](https://arxiv.org/abs/1409.1556)"
      ]
    },
    {
      "cell_type": "code",
      "metadata": {
        "colab": {
          "base_uri": "https://localhost:8080/",
          "height": 864,
          "referenced_widgets": [
            "abc493cacf4d48dfacf6c3d70d2d6a53",
            "1fcb02bb2cf64fd9af0f01f5e2897960",
            "670b275d4d56465bbca9986404b0c193",
            "b9767b95c9cb47d2a3412068f052c803",
            "0c1d432c34d94134b93426b0e9f26215",
            "43c665c5abbc4c29b2c0a7ef79ab792d",
            "3d1f6c6ccc6a408a8a63da3fc98a047d",
            "f3467072ff7542f1a688e293f3b29546"
          ]
        },
        "id": "SiFVc2RadwwV",
        "outputId": "6a64a9d6-aeb8-406e-b568-3ffb815abe5b"
      },
      "source": [
        "import torchvision.models as models\r\n",
        "# vgg16 is a Convolutional Neural Network(CNN) trained on Imagenet 2014 - 1000 categories and 1.3 million images\r\n",
        "vgg16 = models.vgg16(pretrained=True)\r\n",
        "\r\n",
        "# Turn off training for vgg16\r\n",
        "for param in vgg16.parameters():\r\n",
        "    param.requires_grad = False"
      ],
      "execution_count": 161,
      "outputs": [
        {
          "output_type": "stream",
          "text": [
            "Downloading: \"https://download.pytorch.org/models/vgg16-397923af.pth\" to /root/.cache/torch/hub/checkpoints/vgg16-397923af.pth\n"
          ],
          "name": "stderr"
        },
        {
          "output_type": "display_data",
          "data": {
            "application/vnd.jupyter.widget-view+json": {
              "model_id": "abc493cacf4d48dfacf6c3d70d2d6a53",
              "version_minor": 0,
              "version_major": 2
            },
            "text/plain": [
              "HBox(children=(FloatProgress(value=0.0, max=553433881.0), HTML(value='')))"
            ]
          },
          "metadata": {
            "tags": []
          }
        },
        {
          "output_type": "stream",
          "text": [
            "\n"
          ],
          "name": "stdout"
        },
        {
          "output_type": "execute_result",
          "data": {
            "text/plain": [
              "VGG(\n",
              "  (features): Sequential(\n",
              "    (0): Conv2d(3, 64, kernel_size=(3, 3), stride=(1, 1), padding=(1, 1))\n",
              "    (1): ReLU(inplace=True)\n",
              "    (2): Conv2d(64, 64, kernel_size=(3, 3), stride=(1, 1), padding=(1, 1))\n",
              "    (3): ReLU(inplace=True)\n",
              "    (4): MaxPool2d(kernel_size=2, stride=2, padding=0, dilation=1, ceil_mode=False)\n",
              "    (5): Conv2d(64, 128, kernel_size=(3, 3), stride=(1, 1), padding=(1, 1))\n",
              "    (6): ReLU(inplace=True)\n",
              "    (7): Conv2d(128, 128, kernel_size=(3, 3), stride=(1, 1), padding=(1, 1))\n",
              "    (8): ReLU(inplace=True)\n",
              "    (9): MaxPool2d(kernel_size=2, stride=2, padding=0, dilation=1, ceil_mode=False)\n",
              "    (10): Conv2d(128, 256, kernel_size=(3, 3), stride=(1, 1), padding=(1, 1))\n",
              "    (11): ReLU(inplace=True)\n",
              "    (12): Conv2d(256, 256, kernel_size=(3, 3), stride=(1, 1), padding=(1, 1))\n",
              "    (13): ReLU(inplace=True)\n",
              "    (14): Conv2d(256, 256, kernel_size=(3, 3), stride=(1, 1), padding=(1, 1))\n",
              "    (15): ReLU(inplace=True)\n",
              "    (16): MaxPool2d(kernel_size=2, stride=2, padding=0, dilation=1, ceil_mode=False)\n",
              "    (17): Conv2d(256, 512, kernel_size=(3, 3), stride=(1, 1), padding=(1, 1))\n",
              "    (18): ReLU(inplace=True)\n",
              "    (19): Conv2d(512, 512, kernel_size=(3, 3), stride=(1, 1), padding=(1, 1))\n",
              "    (20): ReLU(inplace=True)\n",
              "    (21): Conv2d(512, 512, kernel_size=(3, 3), stride=(1, 1), padding=(1, 1))\n",
              "    (22): ReLU(inplace=True)\n",
              "    (23): MaxPool2d(kernel_size=2, stride=2, padding=0, dilation=1, ceil_mode=False)\n",
              "    (24): Conv2d(512, 512, kernel_size=(3, 3), stride=(1, 1), padding=(1, 1))\n",
              "    (25): ReLU(inplace=True)\n",
              "    (26): Conv2d(512, 512, kernel_size=(3, 3), stride=(1, 1), padding=(1, 1))\n",
              "    (27): ReLU(inplace=True)\n",
              "    (28): Conv2d(512, 512, kernel_size=(3, 3), stride=(1, 1), padding=(1, 1))\n",
              "    (29): ReLU(inplace=True)\n",
              "    (30): MaxPool2d(kernel_size=2, stride=2, padding=0, dilation=1, ceil_mode=False)\n",
              "  )\n",
              "  (avgpool): AdaptiveAvgPool2d(output_size=(7, 7))\n",
              "  (classifier): Sequential(\n",
              "    (0): Linear(in_features=25088, out_features=4096, bias=True)\n",
              "    (1): ReLU(inplace=True)\n",
              "    (2): Dropout(p=0.5, inplace=False)\n",
              "    (3): Linear(in_features=4096, out_features=4096, bias=True)\n",
              "    (4): ReLU(inplace=True)\n",
              "    (5): Dropout(p=0.5, inplace=False)\n",
              "    (6): Linear(in_features=4096, out_features=1000, bias=True)\n",
              "  )\n",
              ")"
            ]
          },
          "metadata": {
            "tags": []
          },
          "execution_count": 161
        }
      ]
    },
    {
      "cell_type": "code",
      "metadata": {
        "colab": {
          "base_uri": "https://localhost:8080/"
        },
        "id": "gof-F4vedyf6",
        "outputId": "84cc372f-67e6-4f9a-c131-009b0d060210"
      },
      "source": [
        "# We are going to reimplement the classifier layer for our task\r\n",
        "# For reference, this is the original\r\n",
        "vgg16.classifier"
      ],
      "execution_count": 14,
      "outputs": [
        {
          "output_type": "execute_result",
          "data": {
            "text/plain": [
              "Sequential(\n",
              "  (0): Linear(in_features=25088, out_features=4096, bias=True)\n",
              "  (1): ReLU(inplace=True)\n",
              "  (2): Dropout(p=0.5, inplace=False)\n",
              "  (3): Linear(in_features=4096, out_features=4096, bias=True)\n",
              "  (4): ReLU(inplace=True)\n",
              "  (5): Dropout(p=0.5, inplace=False)\n",
              "  (6): Linear(in_features=4096, out_features=1000, bias=True)\n",
              ")"
            ]
          },
          "metadata": {
            "tags": []
          },
          "execution_count": 14
        }
      ]
    },
    {
      "cell_type": "markdown",
      "metadata": {
        "id": "O2AQfsXtT2G1"
      },
      "source": [
        "# Transfer Learning Explained\r\n",
        "Using a pretrained VGG backbone will dramatically increase our model accuracy. If you are curious about why transfer learning works, I've attached a video by Andrew Ng. He is the founder of coursera and [deeplearning.ai](https://deeplearning.ai). You can check them out for more content and subscribe to his weekly AI newsletter, The Batch."
      ]
    },
    {
      "cell_type": "code",
      "metadata": {
        "colab": {
          "base_uri": "https://localhost:8080/",
          "height": 321
        },
        "id": "RndzTmC8TcfQ",
        "outputId": "c76cc520-9e82-45a0-b70f-24ae6b37cd51"
      },
      "source": [
        "# Embed youtube video \r\n",
        "from IPython.display import YouTubeVideo, display\r\n",
        "video = YouTubeVideo(\"yofjFQddwHE\", width=500)\r\n",
        "display(video)"
      ],
      "execution_count": 5,
      "outputs": [
        {
          "output_type": "display_data",
          "data": {
            "text/html": [
              "\n",
              "        <iframe\n",
              "            width=\"500\"\n",
              "            height=\"300\"\n",
              "            src=\"https://www.youtube.com/embed/yofjFQddwHE\"\n",
              "            frameborder=\"0\"\n",
              "            allowfullscreen\n",
              "        ></iframe>\n",
              "        "
            ],
            "text/plain": [
              "<IPython.lib.display.YouTubeVideo at 0x7fe1f74491d0>"
            ],
            "image/jpeg": "[encoded data removed]"
          },
          "metadata": {
            "tags": []
          }
        }
      ]
    },
    {
      "cell_type": "markdown",
      "metadata": {
        "id": "xFOY3hR-Yrka"
      },
      "source": [
        "# Defining a Classification Layer"
      ]
    },
    {
      "cell_type": "code",
      "metadata": {
        "id": "Yk_nfaIxYvp8"
      },
      "source": [
        "VGG_OUT_FEATURES = vgg16.classifier[0].in_features"
      ],
      "execution_count": null,
      "outputs": []
    },
    {
      "cell_type": "code",
      "metadata": {
        "id": "nAG8w-K0YwS5"
      },
      "source": [
        "class Model(nn.Module):\r\n",
        "    def __init__(self):\r\n",
        "        super(Model, self).__init__()\r\n",
        "        # Define your layers here\r\n",
        "        self.fc1 = nn.Linear(in_features=VGG_OUT_FEATURES, out_features=)\r\n",
        "        self.fc2 = nn.Linear(,)\r\n",
        "\r\n",
        "    def forward(self, x):\r\n",
        "        x = nn.ReLU(self.fc1(x))\r\n",
        "\r\n",
        "        return nn.Softmax(x))"
      ],
      "execution_count": null,
      "outputs": []
    },
    {
      "cell_type": "markdown",
      "metadata": {
        "id": "f_emswkN9yDo"
      },
      "source": [
        "# Inference"
      ]
    },
    {
      "cell_type": "code",
      "metadata": {
        "id": "UNmP4omdyv4N"
      },
      "source": [
        "im = process(\"jeff.jpg\")"
      ],
      "execution_count": 172,
      "outputs": []
    },
    {
      "cell_type": "code",
      "metadata": {
        "colab": {
          "base_uri": "https://localhost:8080/"
        },
        "id": "FMxE-LR9yy-m",
        "outputId": "d1840384-e7eb-4b8d-83a5-3d0eb845cff6"
      },
      "source": [
        "len(im.flatten())"
      ],
      "execution_count": 176,
      "outputs": [
        {
          "output_type": "execute_result",
          "data": {
            "text/plain": [
              "150528"
            ]
          },
          "metadata": {
            "tags": []
          },
          "execution_count": 176
        }
      ]
    },
    {
      "cell_type": "code",
      "metadata": {
        "colab": {
          "base_uri": "https://localhost:8080/"
        },
        "id": "fcP7BCVg0C8-",
        "outputId": "b1fe5e45-d74a-446b-b861-4c173869407d"
      },
      "source": [
        "my_model(im.flatten())"
      ],
      "execution_count": 179,
      "outputs": [
        {
          "output_type": "execute_result",
          "data": {
            "text/plain": [
              "tensor([0.4963], grad_fn=<SigmoidBackward>)"
            ]
          },
          "metadata": {
            "tags": []
          },
          "execution_count": 179
        }
      ]
    },
    {
      "cell_type": "code",
      "metadata": {
        "id": "JPESMhvbvrLd"
      },
      "source": [
        "from PIL import Image \r\n",
        "def process(im_path):  \r\n",
        "  im = Image.open(im_path)\r\n",
        "  return transform(im)[:3,:,:].unsqueeze(0)"
      ],
      "execution_count": 164,
      "outputs": []
    },
    {
      "cell_type": "code",
      "metadata": {
        "id": "blz13mUX91bz"
      },
      "source": [
        "# Upload your own image\r\n",
        "files.upload()"
      ],
      "execution_count": null,
      "outputs": []
    },
    {
      "cell_type": "code",
      "metadata": {
        "id": "cKks1QBEFmP0"
      },
      "source": [
        "# Show your image\r\n",
        "im = cv2.imread(\"jeff.jpg\")\r\n",
        "cv2_imshow(im)"
      ],
      "execution_count": null,
      "outputs": []
    },
    {
      "cell_type": "code",
      "metadata": {
        "id": "8nkOBZWjEzlQ"
      },
      "source": [
        "# Process Image\r\n",
        "im = process(\"jeff.jpg\")"
      ],
      "execution_count": 170,
      "outputs": []
    },
    {
      "cell_type": "code",
      "metadata": {
        "id": "xou4B9DUE2EA"
      },
      "source": [
        "# Run\r\n",
        "prediction = Model(im)\r\n",
        "round()\r\n",
        "print(prediction)"
      ],
      "execution_count": null,
      "outputs": []
    }
  ]
}